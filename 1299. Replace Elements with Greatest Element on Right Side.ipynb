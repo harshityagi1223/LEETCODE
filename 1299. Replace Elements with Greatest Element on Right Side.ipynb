{
 "cells": [
  {
   "cell_type": "code",
   "execution_count": 1,
   "id": "1084d987-1947-4cf5-bb05-b39edf1ae1ed",
   "metadata": {},
   "outputs": [],
   "source": [
    "from typing import List\n",
    "class Solution:\n",
    "    def replaceElements(self, arr: List[int]) -> List[int]:\n",
    "        curr_max = arr[-1]\n",
    "        arr[-1] = -1\n",
    "        for i in range(len(arr)-2,-1,-1):\n",
    "            curr = arr[i]\n",
    "            arr[i] = curr_max\n",
    "            if curr>curr_max:\n",
    "                curr_max = curr\n",
    "        return arr"
   ]
  },
  {
   "cell_type": "code",
   "execution_count": 2,
   "id": "51192bec-43db-4340-8bf1-658ee0ac0081",
   "metadata": {},
   "outputs": [
    {
     "data": {
      "text/plain": [
       "[18, 6, 6, 6, 1, -1]"
      ]
     },
     "execution_count": 2,
     "metadata": {},
     "output_type": "execute_result"
    }
   ],
   "source": [
    "arr = [17,18,5,4,6,1]\n",
    "sol = Solution()\n",
    "sol.replaceElements(arr)"
   ]
  },
  {
   "cell_type": "code",
   "execution_count": null,
   "id": "886768d1-d29f-4d28-8467-aa04123f99eb",
   "metadata": {},
   "outputs": [],
   "source": []
  }
 ],
 "metadata": {
  "kernelspec": {
   "display_name": "Python 3 (ipykernel)",
   "language": "python",
   "name": "python3"
  },
  "language_info": {
   "codemirror_mode": {
    "name": "ipython",
    "version": 3
   },
   "file_extension": ".py",
   "mimetype": "text/x-python",
   "name": "python",
   "nbconvert_exporter": "python",
   "pygments_lexer": "ipython3",
   "version": "3.9.12"
  }
 },
 "nbformat": 4,
 "nbformat_minor": 5
}
