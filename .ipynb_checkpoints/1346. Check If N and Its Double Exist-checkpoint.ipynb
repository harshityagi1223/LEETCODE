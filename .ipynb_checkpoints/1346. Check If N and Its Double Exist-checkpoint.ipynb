{
 "cells": [
  {
   "cell_type": "code",
   "execution_count": 10,
   "id": "fc8eaf42-3ffc-4be5-aabf-8f0256e17c3b",
   "metadata": {},
   "outputs": [],
   "source": [
    "from typing import List\n",
    "class Solution:\n",
    "    def checkIfExist(self, arr: List[int]) -> bool:\n",
    "        seen = []\n",
    "        for i in range(len(arr)):\n",
    "            if arr[i]/2 in seen or arr[i]*2 in seen:\n",
    "                return True\n",
    "            else:\n",
    "                seen.append(arr[i])\n",
    "        return False"
   ]
  },
  {
   "cell_type": "code",
   "execution_count": 11,
   "id": "1d22c9a4-bb3a-4440-abe1-9795120ba0df",
   "metadata": {},
   "outputs": [
    {
     "data": {
      "text/plain": [
       "True"
      ]
     },
     "execution_count": 11,
     "metadata": {},
     "output_type": "execute_result"
    }
   ],
   "source": [
    "arr = [10,2,5,3]\n",
    "sol = Solution()\n",
    "sol.checkIfExist(arr)"
   ]
  },
  {
   "cell_type": "code",
   "execution_count": 12,
   "id": "3e99fe58-046f-44dc-8717-720f11d4f554",
   "metadata": {},
   "outputs": [
    {
     "data": {
      "text/plain": [
       "True"
      ]
     },
     "execution_count": 12,
     "metadata": {},
     "output_type": "execute_result"
    }
   ],
   "source": [
    "arr1 = [7,1,14,11]\n",
    "sol = Solution()\n",
    "sol.checkIfExist(arr1)"
   ]
  },
  {
   "cell_type": "code",
   "execution_count": 13,
   "id": "83c6a150-e4f7-4c1f-9b9f-5b732e73582b",
   "metadata": {},
   "outputs": [
    {
     "data": {
      "text/plain": [
       "False"
      ]
     },
     "execution_count": 13,
     "metadata": {},
     "output_type": "execute_result"
    }
   ],
   "source": [
    "arr2 = [3,1,7,11]\n",
    "sol = Solution()\n",
    "sol.checkIfExist(arr2)"
   ]
  },
  {
   "cell_type": "code",
   "execution_count": null,
   "id": "4669f642-5efc-4f5d-9b85-50760f7d407f",
   "metadata": {},
   "outputs": [],
   "source": []
  }
 ],
 "metadata": {
  "kernelspec": {
   "display_name": "Python 3 (ipykernel)",
   "language": "python",
   "name": "python3"
  },
  "language_info": {
   "codemirror_mode": {
    "name": "ipython",
    "version": 3
   },
   "file_extension": ".py",
   "mimetype": "text/x-python",
   "name": "python",
   "nbconvert_exporter": "python",
   "pygments_lexer": "ipython3",
   "version": "3.9.12"
  }
 },
 "nbformat": 4,
 "nbformat_minor": 5
}
