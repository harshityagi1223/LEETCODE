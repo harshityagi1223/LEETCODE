{
 "cells": [
  {
   "cell_type": "code",
   "execution_count": 1,
   "id": "a5deb88f-5ea1-44e9-ab99-cb98b9689c51",
   "metadata": {},
   "outputs": [],
   "source": [
    "from typing import List\n",
    "class Solution:\n",
    "    def validMountainArray(self, arr: List[int]) -> bool:\n",
    "        i = 0\n",
    "        while (i+1 < len(arr)) and arr[i]<arr[i+1]:\n",
    "            i+=1\n",
    "        if i ==0 or i==len(arr)-1:\n",
    "            return False\n",
    "        while (i+1 < len(arr)) and arr[i]>arr[i+1]:\n",
    "            i+=1\n",
    "        return i==len(arr)-1"
   ]
  },
  {
   "cell_type": "code",
   "execution_count": 2,
   "id": "ff2b3586-6e87-415e-a731-cbfcb0a16d5b",
   "metadata": {},
   "outputs": [
    {
     "data": {
      "text/plain": [
       "False"
      ]
     },
     "execution_count": 2,
     "metadata": {},
     "output_type": "execute_result"
    }
   ],
   "source": [
    "arr = [2,1]\n",
    "sol = Solution()\n",
    "sol.validMountainArray(arr)"
   ]
  },
  {
   "cell_type": "code",
   "execution_count": null,
   "id": "8cbd1725-2f36-4327-8318-11dbc0ff4950",
   "metadata": {},
   "outputs": [],
   "source": []
  }
 ],
 "metadata": {
  "kernelspec": {
   "display_name": "Python 3 (ipykernel)",
   "language": "python",
   "name": "python3"
  },
  "language_info": {
   "codemirror_mode": {
    "name": "ipython",
    "version": 3
   },
   "file_extension": ".py",
   "mimetype": "text/x-python",
   "name": "python",
   "nbconvert_exporter": "python",
   "pygments_lexer": "ipython3",
   "version": "3.9.12"
  }
 },
 "nbformat": 4,
 "nbformat_minor": 5
}
