{
 "cells": [
  {
   "cell_type": "markdown",
   "id": "12647e8d-08f7-4bf0-867d-9b626ef969fe",
   "metadata": {},
   "source": [
    "1672. Richest Customer Wealth\n"
   ]
  },
  {
   "cell_type": "code",
   "execution_count": 1,
   "id": "ec38b12e-8212-49a7-86e6-0aa03f3b65c9",
   "metadata": {},
   "outputs": [],
   "source": [
    "from typing import List\n",
    "class Solution:\n",
    "    def maximumWealth(self, accounts: List[List[int]]) -> int:\n",
    "        max_sum = 0\n",
    "        cur_sum = 0\n",
    "        for i in range(len(accounts)):\n",
    "            cur_sum = 0\n",
    "            for j in range(len(accounts[i])):\n",
    "                cur_sum += accounts[i][j]\n",
    "            if cur_sum > max_sum:\n",
    "                max_sum = cur_sum\n",
    "        return max_sum"
   ]
  },
  {
   "cell_type": "code",
   "execution_count": 2,
   "id": "b5c7bfc6-8cb8-46c5-9cef-d092a1f20774",
   "metadata": {},
   "outputs": [
    {
     "data": {
      "text/plain": [
       "6"
      ]
     },
     "execution_count": 2,
     "metadata": {},
     "output_type": "execute_result"
    }
   ],
   "source": [
    "sol = Solution()\n",
    "accounts = [[1,2,3],[3,2,1]]\n",
    "sol.maximumWealth(accounts)"
   ]
  },
  {
   "cell_type": "code",
   "execution_count": null,
   "id": "5cb3422e-bc9c-4718-af15-acfdfcdda159",
   "metadata": {},
   "outputs": [],
   "source": []
  }
 ],
 "metadata": {
  "kernelspec": {
   "display_name": "Python 3 (ipykernel)",
   "language": "python",
   "name": "python3"
  },
  "language_info": {
   "codemirror_mode": {
    "name": "ipython",
    "version": 3
   },
   "file_extension": ".py",
   "mimetype": "text/x-python",
   "name": "python",
   "nbconvert_exporter": "python",
   "pygments_lexer": "ipython3",
   "version": "3.9.12"
  }
 },
 "nbformat": 4,
 "nbformat_minor": 5
}
