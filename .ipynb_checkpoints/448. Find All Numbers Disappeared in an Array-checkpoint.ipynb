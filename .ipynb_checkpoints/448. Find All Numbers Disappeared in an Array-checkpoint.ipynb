{
 "cells": [
  {
   "cell_type": "code",
   "execution_count": 1,
   "id": "21d93383-869e-4824-a308-29aa6e75005c",
   "metadata": {},
   "outputs": [],
   "source": [
    "from typing import List\n",
    "class Solution:\n",
    "    def findDisappearedNumbers(self, nums: List[int]) -> List[int]:\n",
    "        res = set(range(1,len(nums)+1))\n",
    "        return res-set(nums)"
   ]
  },
  {
   "cell_type": "code",
   "execution_count": 4,
   "id": "d6f70b20-2a3c-4ca4-ac6e-770fb8afd467",
   "metadata": {},
   "outputs": [
    {
     "data": {
      "text/plain": [
       "[5, 6]"
      ]
     },
     "execution_count": 4,
     "metadata": {},
     "output_type": "execute_result"
    }
   ],
   "source": [
    "sol = Solution()\n",
    "nums = [4,3,2,7,8,2,3,1]\n",
    "sol.findDisappearedNumbers(nums)"
   ]
  },
  {
   "cell_type": "markdown",
   "id": "97a379d3-6472-4c65-9ec4-909002967188",
   "metadata": {},
   "source": [
    "Approach 2:"
   ]
  },
  {
   "cell_type": "code",
   "execution_count": 6,
   "id": "a23aa615-26da-4b8a-9b98-e61373ae4d28",
   "metadata": {},
   "outputs": [],
   "source": [
    "from typing import List\n",
    "class Solution1:\n",
    "    def findDisappearedNumbers(self, nums: List[int]) -> List[int]:\n",
    "        res = []\n",
    "        for i in range(len(nums)):\n",
    "            temp = abs(nums[i])\n",
    "            nums[temp-1] = -(abs(nums[temp-1]))\n",
    "        for i in range(len(nums)):\n",
    "            if nums[i]>0:\n",
    "                res.append(i+1)\n",
    "        return res"
   ]
  },
  {
   "cell_type": "code",
   "execution_count": 7,
   "id": "d517085b-ee16-4262-95ba-e52dfc8a7242",
   "metadata": {},
   "outputs": [
    {
     "data": {
      "text/plain": [
       "[5, 6]"
      ]
     },
     "execution_count": 7,
     "metadata": {},
     "output_type": "execute_result"
    }
   ],
   "source": [
    "sol1 = Solution1()\n",
    "nums = [4,3,2,7,8,2,3,1]\n",
    "sol1.findDisappearedNumbers(nums)"
   ]
  },
  {
   "cell_type": "code",
   "execution_count": null,
   "id": "3adf1a93-5c90-4098-9c54-c8d64466fa3b",
   "metadata": {},
   "outputs": [],
   "source": []
  }
 ],
 "metadata": {
  "kernelspec": {
   "display_name": "Python 3 (ipykernel)",
   "language": "python",
   "name": "python3"
  },
  "language_info": {
   "codemirror_mode": {
    "name": "ipython",
    "version": 3
   },
   "file_extension": ".py",
   "mimetype": "text/x-python",
   "name": "python",
   "nbconvert_exporter": "python",
   "pygments_lexer": "ipython3",
   "version": "3.9.12"
  }
 },
 "nbformat": 4,
 "nbformat_minor": 5
}
