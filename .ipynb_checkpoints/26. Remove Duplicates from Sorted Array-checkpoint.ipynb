{
 "cells": [
  {
   "cell_type": "code",
   "execution_count": 69,
   "id": "2a7a8be4-a2b3-47e5-bf7d-b2e96157b6ff",
   "metadata": {},
   "outputs": [],
   "source": [
    "from typing import List\n",
    "class Solution:\n",
    "    def removeDuplicates(self, nums: List[int]) -> int:\n",
    "        l=1\n",
    "        for i in range(1,len(nums)):\n",
    "            if(nums[i]!=nums[i-1]):\n",
    "                nums[l]=nums[i]\n",
    "                l+=1                                     \n",
    "     \n",
    "        return l"
   ]
  },
  {
   "cell_type": "code",
   "execution_count": 75,
   "id": "aea5d077-33a8-47b4-96b8-d8c03bbb5668",
   "metadata": {},
   "outputs": [
    {
     "data": {
      "text/plain": [
       "5"
      ]
     },
     "execution_count": 75,
     "metadata": {},
     "output_type": "execute_result"
    }
   ],
   "source": [
    "sol = Solution()\n",
    "nums = [0,0,1,1,1,2,2,3,3,4]\n",
    "sol.removeDuplicates(nums)"
   ]
  },
  {
   "cell_type": "code",
   "execution_count": 76,
   "id": "26d7fe0b-d735-4d0b-a0dd-a86a73b5a0fd",
   "metadata": {},
   "outputs": [],
   "source": [
    "nums = [1,1,2,2,3,3,3]"
   ]
  },
  {
   "cell_type": "code",
   "execution_count": 77,
   "id": "9d948f3a-9694-4a2a-a5b9-7c163939a45a",
   "metadata": {},
   "outputs": [
    {
     "data": {
      "text/plain": [
       "3"
      ]
     },
     "execution_count": 77,
     "metadata": {},
     "output_type": "execute_result"
    }
   ],
   "source": [
    "sol.removeDuplicates(nums)"
   ]
  },
  {
   "cell_type": "code",
   "execution_count": null,
   "id": "46f23a84-33bd-421b-b185-e2e9826e3421",
   "metadata": {},
   "outputs": [],
   "source": []
  }
 ],
 "metadata": {
  "kernelspec": {
   "display_name": "Python 3 (ipykernel)",
   "language": "python",
   "name": "python3"
  },
  "language_info": {
   "codemirror_mode": {
    "name": "ipython",
    "version": 3
   },
   "file_extension": ".py",
   "mimetype": "text/x-python",
   "name": "python",
   "nbconvert_exporter": "python",
   "pygments_lexer": "ipython3",
   "version": "3.9.12"
  }
 },
 "nbformat": 4,
 "nbformat_minor": 5
}
