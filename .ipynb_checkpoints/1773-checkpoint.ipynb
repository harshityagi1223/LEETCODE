{
 "cells": [
  {
   "cell_type": "markdown",
   "id": "605f785f-3b8a-4fab-a784-7fdc7a651dde",
   "metadata": {},
   "source": [
    "1773. Count Items Matching a Rule:"
   ]
  },
  {
   "cell_type": "code",
   "execution_count": 2,
   "id": "e978ec99-c15e-4cf8-bc00-257b737ef9b7",
   "metadata": {},
   "outputs": [],
   "source": [
    "from typing import List\n",
    "class Solution:\n",
    "    def countMatches(self, items: List[List[str]], ruleKey: str, ruleValue: str) -> int:\n",
    "        count = 0\n",
    "        for i in range(len(items)):\n",
    "            if (ruleKey == \"type\" and items[i][0] == ruleValue) or (ruleKey == \"color\" and items[i][1] == ruleValue) or (ruleKey == \"name\" and items[i][2] == ruleValue):\n",
    "                count+=1\n",
    "        return count"
   ]
  },
  {
   "cell_type": "code",
   "execution_count": 3,
   "id": "f158fc57-d69c-47f1-a9b4-bf38334dcacc",
   "metadata": {},
   "outputs": [
    {
     "name": "stdout",
     "output_type": "stream",
     "text": [
      "1\n"
     ]
    }
   ],
   "source": [
    "soln = Solution()\n",
    "print(soln.countMatches( [[\"phone\",\"blue\",\"pixel\"],[\"computer\",\"silver\",\"lenovo\"],[\"phone\",\"gold\",\"iphone\"]], ruleKey = \"color\", ruleValue = \"silver\"))"
   ]
  },
  {
   "cell_type": "code",
   "execution_count": 4,
   "id": "89249813-91e5-4715-aeee-b9f1e21b1d92",
   "metadata": {},
   "outputs": [
    {
     "name": "stdout",
     "output_type": "stream",
     "text": [
      "2\n"
     ]
    }
   ],
   "source": [
    "print(soln.countMatches([[\"phone\",\"blue\",\"pixel\"],[\"computer\",\"silver\",\"phone\"],[\"phone\",\"gold\",\"iphone\"]], ruleKey = \"type\", ruleValue = \"phone\"))"
   ]
  },
  {
   "cell_type": "code",
   "execution_count": null,
   "id": "f264a69a-7f6a-4dc3-96ce-4d91f1f3f3a7",
   "metadata": {},
   "outputs": [],
   "source": []
  }
 ],
 "metadata": {
  "kernelspec": {
   "display_name": "Python 3 (ipykernel)",
   "language": "python",
   "name": "python3"
  },
  "language_info": {
   "codemirror_mode": {
    "name": "ipython",
    "version": 3
   },
   "file_extension": ".py",
   "mimetype": "text/x-python",
   "name": "python",
   "nbconvert_exporter": "python",
   "pygments_lexer": "ipython3",
   "version": "3.9.12"
  }
 },
 "nbformat": 4,
 "nbformat_minor": 5
}
