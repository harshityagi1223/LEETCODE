{
 "cells": [
  {
   "cell_type": "markdown",
   "id": "ab1f8d1b-e072-4f05-b676-db4dcb7e46a5",
   "metadata": {},
   "source": [
    "Given an array of integers nums which is sorted in ascending order, and an integer target, write a function to search target in nums. If target exists, then return its index. Otherwise, return -1.\n",
    "\n",
    "You must write an algorithm with O(log n) runtime complexity."
   ]
  },
  {
   "cell_type": "code",
   "execution_count": 1,
   "id": "d84de4e5-f0a8-4665-997a-c5d32a822889",
   "metadata": {},
   "outputs": [],
   "source": [
    "from typing import List\n",
    "class Solution:\n",
    "    def search(self, nums: List[int], target: int) -> int:\n",
    "        beg = 0\n",
    "        end = len(nums)-1\n",
    "        if len(nums) == 1 and nums[0] == target:\n",
    "            return 0\n",
    "        while beg <= end:\n",
    "            mid = (beg+end)//2\n",
    "            if nums[mid] == target:\n",
    "                return mid\n",
    "            elif nums[mid]<target:\n",
    "                beg = mid+1\n",
    "            else:\n",
    "                end = mid-1\n",
    "        return -1"
   ]
  },
  {
   "cell_type": "code",
   "execution_count": 2,
   "id": "4ea8bf47-7bd5-4709-94ae-c9d780f1b532",
   "metadata": {},
   "outputs": [
    {
     "data": {
      "text/plain": [
       "4"
      ]
     },
     "execution_count": 2,
     "metadata": {},
     "output_type": "execute_result"
    }
   ],
   "source": [
    "sol = Solution()\n",
    "nums = [-1,0,3,5,9,12]\n",
    "target = 9\n",
    "sol.search(nums,target)"
   ]
  },
  {
   "cell_type": "code",
   "execution_count": null,
   "id": "4b32e23c-0420-4de2-a5f9-ff815fe5d271",
   "metadata": {},
   "outputs": [],
   "source": []
  }
 ],
 "metadata": {
  "kernelspec": {
   "display_name": "Python 3 (ipykernel)",
   "language": "python",
   "name": "python3"
  },
  "language_info": {
   "codemirror_mode": {
    "name": "ipython",
    "version": 3
   },
   "file_extension": ".py",
   "mimetype": "text/x-python",
   "name": "python",
   "nbconvert_exporter": "python",
   "pygments_lexer": "ipython3",
   "version": "3.9.12"
  }
 },
 "nbformat": 4,
 "nbformat_minor": 5
}
