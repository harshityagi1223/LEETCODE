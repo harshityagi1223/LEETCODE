{
 "cells": [
  {
   "cell_type": "markdown",
   "id": "dc3c4d31-4bbd-4c8f-96b8-30f007817f41",
   "metadata": {},
   "source": [
    "1089. Duplicate Zeros"
   ]
  },
  {
   "cell_type": "markdown",
   "id": "7213b6f2-c5da-4414-a893-75db87757253",
   "metadata": {},
   "source": [
    "Given a fixed-length integer array arr, duplicate each occurrence of zero, shifting the remaining elements to the right.\n",
    "\n",
    "Input: arr = [1,0,2,3,0,4,5,0]\n",
    "\n",
    "Output: [1,0,0,2,3,0,0,4]\n",
    "\n",
    "Explanation: After calling your function, the input array is modified to: [1,0,0,2,3,0,0,4]"
   ]
  },
  {
   "cell_type": "code",
   "execution_count": 2,
   "id": "3abebc30-fce3-455d-b319-7b73835b0d34",
   "metadata": {},
   "outputs": [],
   "source": [
    "from typing import List\n",
    "class Solution:\n",
    "    def duplicateZeros(self, arr: List[int]) -> None:\n",
    "        \"\"\"\n",
    "        Do not return anything, modify arr in-place instead.\n",
    "        \"\"\"\n",
    "        i = 0\n",
    "        while i < len(arr):\n",
    "            if arr[i]==0:\n",
    "                arr.insert(i+1,0)\n",
    "                arr.pop()\n",
    "                i+=1\n",
    "            i+=1\n",
    "            "
   ]
  },
  {
   "cell_type": "code",
   "execution_count": 5,
   "id": "fe270685-fb52-49df-b259-ac0219057e7a",
   "metadata": {},
   "outputs": [],
   "source": [
    "sol = Solution()\n",
    "arr = [1,0,2,3,0,4,5,0]\n",
    "sol.duplicateZeros(arr)"
   ]
  },
  {
   "cell_type": "code",
   "execution_count": 6,
   "id": "d8bc1afa-0fe7-4841-88fe-ec3246684700",
   "metadata": {},
   "outputs": [
    {
     "data": {
      "text/plain": [
       "[1, 0, 0, 2, 3, 0, 0, 4]"
      ]
     },
     "execution_count": 6,
     "metadata": {},
     "output_type": "execute_result"
    }
   ],
   "source": [
    "arr"
   ]
  },
  {
   "cell_type": "code",
   "execution_count": null,
   "id": "b703b483-14c7-4e73-9e61-f00c53ab9bb6",
   "metadata": {},
   "outputs": [],
   "source": []
  }
 ],
 "metadata": {
  "kernelspec": {
   "display_name": "Python 3 (ipykernel)",
   "language": "python",
   "name": "python3"
  },
  "language_info": {
   "codemirror_mode": {
    "name": "ipython",
    "version": 3
   },
   "file_extension": ".py",
   "mimetype": "text/x-python",
   "name": "python",
   "nbconvert_exporter": "python",
   "pygments_lexer": "ipython3",
   "version": "3.9.12"
  }
 },
 "nbformat": 4,
 "nbformat_minor": 5
}
