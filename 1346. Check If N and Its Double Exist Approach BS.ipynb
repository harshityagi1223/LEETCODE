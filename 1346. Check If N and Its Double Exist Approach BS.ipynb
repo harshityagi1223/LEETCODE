{
 "cells": [
  {
   "cell_type": "code",
   "execution_count": 40,
   "id": "5beaacbc-11a5-4c3d-a06f-99d3e6e7a8cb",
   "metadata": {},
   "outputs": [],
   "source": [
    "from typing import List\n",
    "class Solution:\n",
    "    def checkIfExist(self, arr: List[int]) -> bool:\n",
    "        arr = sorted(arr)\n",
    "        for i in range(len(arr)):\n",
    "            loc = self.isFound(arr[i]*2,arr)\n",
    "            if loc!=-1 and loc!=i:\n",
    "                return True\n",
    "        return False\n",
    "    def isFound(self, num : int, arr: List[int]) -> int:\n",
    "        beg = 0\n",
    "        end = len(arr)-1\n",
    "        while beg<=end:\n",
    "            mid = (beg+end)//2\n",
    "            if arr[mid]==num:\n",
    "                return mid\n",
    "            elif arr[mid] < num:\n",
    "                beg = mid+1\n",
    "            elif arr[mid] > num:\n",
    "                end = mid-1\n",
    "        return -1\n",
    "                "
   ]
  },
  {
   "cell_type": "code",
   "execution_count": 41,
   "id": "ea84fc4a-cfd9-4841-8743-6c885a8871d2",
   "metadata": {},
   "outputs": [
    {
     "name": "stdout",
     "output_type": "stream",
     "text": [
      "we are here to find -38\n",
      "-1 0 -19\n",
      "we are here to find -16\n",
      "-1 1 -8\n",
      "we are here to find -4\n",
      "-1 2 -2\n",
      "we are here to find 0\n",
      "3 3 0\n",
      "we are here to find 8\n",
      "-1 4 4\n",
      "we are here to find 12\n",
      "-1 5 6\n",
      "we are here to find 20\n",
      "-1 6 10\n"
     ]
    },
    {
     "data": {
      "text/plain": [
       "False"
      ]
     },
     "execution_count": 41,
     "metadata": {},
     "output_type": "execute_result"
    }
   ],
   "source": [
    "arr = [-2,0,10,-19,4,6,-8]\n",
    "sol = Solution()\n",
    "sol.checkIfExist(arr)"
   ]
  },
  {
   "cell_type": "code",
   "execution_count": null,
   "id": "81edf84a-ff87-416a-b1d4-62a045b2c507",
   "metadata": {},
   "outputs": [],
   "source": []
  }
 ],
 "metadata": {
  "kernelspec": {
   "display_name": "Python 3 (ipykernel)",
   "language": "python",
   "name": "python3"
  },
  "language_info": {
   "codemirror_mode": {
    "name": "ipython",
    "version": 3
   },
   "file_extension": ".py",
   "mimetype": "text/x-python",
   "name": "python",
   "nbconvert_exporter": "python",
   "pygments_lexer": "ipython3",
   "version": "3.9.12"
  }
 },
 "nbformat": 4,
 "nbformat_minor": 5
}
