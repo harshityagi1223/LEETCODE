{
 "cells": [
  {
   "cell_type": "markdown",
   "id": "f5d04155-843b-4bf3-bcb0-765d7b4e0db0",
   "metadata": {},
   "source": [
    "You are given two integer arrays nums1 and nums2, sorted in non-decreasing order, and two integers m and n, representing the number of elements in nums1 and nums2 respectively.\n",
    "\n",
    "Merge nums1 and nums2 into a single array sorted in non-decreasing order.\n",
    "\n",
    "The final sorted array should not be returned by the function, but instead be stored inside the array nums1. To accommodate this, nums1 has a length of m + n, where the first m elements denote the elements that should be merged, and the last n elements are set to 0 and should be ignored. nums2 has a length of n."
   ]
  },
  {
   "cell_type": "markdown",
   "id": "0e741335-be14-4544-9a8c-0682abce7d5e",
   "metadata": {},
   "source": [
    "Input: nums1 = [1,2,3,0,0,0], m = 3, nums2 = [2,5,6], n = 3\n",
    "\n",
    "Output: [1,2,2,3,5,6]\n",
    "\n",
    "Explanation: The arrays we are merging are [1,2,3] and [2,5,6].\n",
    "\n",
    "The result of the merge is [1,2,2,3,5,6] with the underlined elements coming from nums1."
   ]
  },
  {
   "cell_type": "markdown",
   "id": "409b090c-9ddc-49e6-b09d-59ea5d1bcb92",
   "metadata": {},
   "source": [
    "Input: nums1 = [1], m = 1, nums2 = [], n = 0\n",
    "\n",
    "Output: [1]\n",
    "\n",
    "Explanation: The arrays we are merging are [1] and [].\n",
    "\n",
    "The result of the merge is [1]."
   ]
  },
  {
   "cell_type": "code",
   "execution_count": 80,
   "id": "3f49c069-4f16-455a-b6b6-a6c1fb3926b6",
   "metadata": {},
   "outputs": [],
   "source": [
    "from typing import List\n",
    "class Solution:\n",
    "    def merge(self, nums1: List[int], m: int, nums2: List[int], n: int) -> None:\n",
    "        i = 0\n",
    "        while i< len(nums1):\n",
    "                if nums2 and nums2[0]<=nums1[i]:\n",
    "                    nums1.insert(i,nums2[0])\n",
    "                    nums1.pop()\n",
    "                    nums2.pop(0)\n",
    "                else:\n",
    "                    i+=1\n",
    "        i -=1       \n",
    "        if len(nums2) !=0:\n",
    "            for j in reversed(nums2):\n",
    "                nums1[i] = j\n",
    "                i -=1"
   ]
  },
  {
   "cell_type": "code",
   "execution_count": 81,
   "id": "3112afcc-dccb-4a44-94d4-0edf2483946d",
   "metadata": {},
   "outputs": [],
   "source": [
    "sol = Solution()\n",
    "nums1 = [1,2,3,0,0,0]\n",
    "m = 3\n",
    "nums2 = [2,5,6]\n",
    "n = 3"
   ]
  },
  {
   "cell_type": "code",
   "execution_count": 82,
   "id": "0dd47139-2cd0-41a2-a6dc-566bf5e78b9b",
   "metadata": {},
   "outputs": [],
   "source": [
    "sol.merge(nums1,m,nums2,n)"
   ]
  },
  {
   "cell_type": "code",
   "execution_count": 83,
   "id": "ad3a77d0-5156-4e66-b6a9-6b8788c5d383",
   "metadata": {},
   "outputs": [
    {
     "data": {
      "text/plain": [
       "[1, 2, 2, 3, 5, 6]"
      ]
     },
     "execution_count": 83,
     "metadata": {},
     "output_type": "execute_result"
    }
   ],
   "source": [
    "nums1"
   ]
  }
 ],
 "metadata": {
  "kernelspec": {
   "display_name": "Python 3 (ipykernel)",
   "language": "python",
   "name": "python3"
  },
  "language_info": {
   "codemirror_mode": {
    "name": "ipython",
    "version": 3
   },
   "file_extension": ".py",
   "mimetype": "text/x-python",
   "name": "python",
   "nbconvert_exporter": "python",
   "pygments_lexer": "ipython3",
   "version": "3.9.12"
  }
 },
 "nbformat": 4,
 "nbformat_minor": 5
}
