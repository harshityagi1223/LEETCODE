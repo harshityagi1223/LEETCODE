{
 "cells": [
  {
   "cell_type": "markdown",
   "id": "e1701310-eb5c-4074-854d-14973bc38b3a",
   "metadata": {},
   "source": [
    "1 365. How Many Numbers Are Smaller Than the Current Number"
   ]
  },
  {
   "cell_type": "code",
   "execution_count": 9,
   "id": "c0b852da-00bd-4885-bbee-0664107f1aec",
   "metadata": {},
   "outputs": [
    {
     "name": "stdout",
     "output_type": "stream",
     "text": [
      "[4, 0, 1, 1, 3]\n"
     ]
    }
   ],
   "source": [
    "from typing import List\n",
    "class Solution:\n",
    "    def smallerNumbersThanCurrent(self, nums: List[int]) -> List[int]:\n",
    "        return [sum([1 for i in nums if i < num]) for num in nums]\n",
    "soln = Solution()\n",
    "print(soln.smallerNumbersThanCurrent([8,1,2,2,3]))"
   ]
  },
  {
   "cell_type": "code",
   "execution_count": null,
   "id": "ba70ccf1-a241-4071-b7ca-1db2657a6e16",
   "metadata": {},
   "outputs": [],
   "source": []
  }
 ],
 "metadata": {
  "kernelspec": {
   "display_name": "Python 3 (ipykernel)",
   "language": "python",
   "name": "python3"
  },
  "language_info": {
   "codemirror_mode": {
    "name": "ipython",
    "version": 3
   },
   "file_extension": ".py",
   "mimetype": "text/x-python",
   "name": "python",
   "nbconvert_exporter": "python",
   "pygments_lexer": "ipython3",
   "version": "3.9.12"
  }
 },
 "nbformat": 4,
 "nbformat_minor": 5
}
