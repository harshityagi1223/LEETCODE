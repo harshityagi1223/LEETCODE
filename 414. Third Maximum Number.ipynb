{
 "cells": [
  {
   "cell_type": "code",
   "execution_count": 1,
   "id": "9db48f94-ad92-4c44-87e4-d622d8a1e7f5",
   "metadata": {},
   "outputs": [],
   "source": [
    "from typing import List\n",
    "class Solution:\n",
    "    def thirdMax(self, nums: List[int]) -> int:\n",
    "        num = sorted(set(nums))\n",
    "        if len(num)>=3:\n",
    "            return num[len(num)-3]\n",
    "        else:\n",
    "            return num[len(num)-1]"
   ]
  },
  {
   "cell_type": "code",
   "execution_count": 2,
   "id": "cc63c858-e1f2-4b96-9902-4d9d7a84f639",
   "metadata": {},
   "outputs": [
    {
     "data": {
      "text/plain": [
       "1"
      ]
     },
     "execution_count": 2,
     "metadata": {},
     "output_type": "execute_result"
    }
   ],
   "source": [
    "sol = Solution()\n",
    "nums = [3,2,1]\n",
    "sol.thirdMax(nums)"
   ]
  },
  {
   "cell_type": "code",
   "execution_count": null,
   "id": "919336bc-6904-438f-97a5-3c89385fc09d",
   "metadata": {},
   "outputs": [],
   "source": []
  }
 ],
 "metadata": {
  "kernelspec": {
   "display_name": "Python 3 (ipykernel)",
   "language": "python",
   "name": "python3"
  },
  "language_info": {
   "codemirror_mode": {
    "name": "ipython",
    "version": 3
   },
   "file_extension": ".py",
   "mimetype": "text/x-python",
   "name": "python",
   "nbconvert_exporter": "python",
   "pygments_lexer": "ipython3",
   "version": "3.9.12"
  }
 },
 "nbformat": 4,
 "nbformat_minor": 5
}
